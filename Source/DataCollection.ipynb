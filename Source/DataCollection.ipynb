{
 "cells": [
  {
   "cell_type": "markdown",
   "metadata": {},
   "source": [
    "## **Programming for Data Science - Lập Trình cho khoa học dữ liệu**\n",
    "### **HCMUS - Trường Đại học khoa học tự nhiên - Nov 2024.**\n",
    "### **Final Project - Handle Kaggle Dataset Problems**\n",
    "#### **Due:** 16/12/2024.\n",
    "#### **Lớp:** 22_21.\n",
    "#### **Giảng viên hướng dẫn:** Thầy Phạm Trọng Nghĩa - Thầy Lê Nhựt Nam.\n",
    "#### **Tên Nhóm:** 3TT\n",
    "#### **MSSS - Tên thành viên:**\n",
    "1. 22120384 - Nguyễn Đình Trí.\n",
    "2. 22120398 - Vũ Hoàng Nhật Trường.\n",
    "3. 22120412 - Nguyễn Anh Tường.\n",
    "---"
   ]
  },
  {
   "cell_type": "markdown",
   "metadata": {},
   "source": [
    "### STEP 1: DATA COLLECTION\n",
    "#### **Người thực hiện:** Nguyễn Anh Tường - 22120412.\n",
    "\n",
    "---"
   ]
  },
  {
   "cell_type": "markdown",
   "metadata": {},
   "source": [
    "**1. Thư viện sử dụng:**"
   ]
  },
  {
   "cell_type": "code",
   "execution_count": 1,
   "metadata": {},
   "outputs": [
    {
     "name": "stderr",
     "output_type": "stream",
     "text": [
      "c:\\Users\\Richard Nguyen\\AppData\\Local\\Programs\\Python\\Python312\\Lib\\site-packages\\tqdm\\auto.py:21: TqdmWarning: IProgress not found. Please update jupyter and ipywidgets. See https://ipywidgets.readthedocs.io/en/stable/user_install.html\n",
      "  from .autonotebook import tqdm as notebook_tqdm\n"
     ]
    }
   ],
   "source": [
    "import kagglehub\n",
    "import os\n",
    "from pathlib import Path\n",
    "import shutil"
   ]
  },
  {
   "cell_type": "markdown",
   "metadata": {},
   "source": [
    "**2. Hàm tải tập dữ liệu từ kaggle thông qua kagglehub:**"
   ]
  },
  {
   "cell_type": "code",
   "execution_count": 2,
   "metadata": {},
   "outputs": [],
   "source": [
    "datapath = \"kamilpytlak/personal-key-indicators-of-heart-disease\""
   ]
  },
  {
   "cell_type": "code",
   "execution_count": 3,
   "metadata": {},
   "outputs": [],
   "source": [
    "def dataset_downloader(datapath):\n",
    "    path = kagglehub.dataset_download(datapath)\n",
    "    print(\"Path to dataset files:\", path)\n",
    "    return path"
   ]
  },
  {
   "cell_type": "code",
   "execution_count": 4,
   "metadata": {},
   "outputs": [],
   "source": [
    "def getCurrrentDir():\n",
    "    current_directory = Path.cwd()\n",
    "    return current_directory"
   ]
  },
  {
   "cell_type": "code",
   "execution_count": 5,
   "metadata": {},
   "outputs": [
    {
     "name": "stdout",
     "output_type": "stream",
     "text": [
      "Path to dataset files: C:\\Users\\Richard Nguyen\\.cache\\kagglehub\\datasets\\kamilpytlak\\personal-key-indicators-of-heart-disease\\versions\\6\n"
     ]
    }
   ],
   "source": [
    "destination_path = getCurrrentDir() / 'Data'\n",
    "source_path = dataset_downloader(datapath)"
   ]
  },
  {
   "cell_type": "code",
   "execution_count": 6,
   "metadata": {},
   "outputs": [
    {
     "name": "stdout",
     "output_type": "stream",
     "text": [
      "Destination:  c:\\Users\\Richard Nguyen\\OneDrive - VNU-HCMUS\\[Uni] UniverPro\\Programming for Data Science\\Laps\\Pro4DS-FinalProject-HandleKaggleDatasetProblems\\Source\\Data\n",
      "Source:  C:\\Users\\Richard Nguyen\\.cache\\kagglehub\\datasets\\kamilpytlak\\personal-key-indicators-of-heart-disease\\versions\\6\n"
     ]
    }
   ],
   "source": [
    "#TEST\n",
    "print('Destination: ', destination_path)\n",
    "print('Source: ', source_path)"
   ]
  },
  {
   "cell_type": "markdown",
   "metadata": {},
   "source": [
    "**3. Copy file đã tải về vào thư mục hoạt động cần thiết - ở đây là thư mục data.**"
   ]
  },
  {
   "cell_type": "code",
   "execution_count": 7,
   "metadata": {},
   "outputs": [],
   "source": [
    "def handle_remove_readonly(func, path, exc_info):\n",
    "    os.chmod(path, 0o777)\n",
    "    func(path)\n",
    "\n",
    "def copy_all_files_and_folders(source_folder, destination_folder):\n",
    "    if not os.path.exists(source_folder):\n",
    "        raise FileNotFoundError(f\"Source folder '{source_folder}' not found.\")\n",
    "    \n",
    "    # Remove destination folder if it exists to avoid conflicts\n",
    "    if os.path.exists(destination_folder):\n",
    "        shutil.rmtree(destination_folder, onerror=handle_remove_readonly)\n",
    "    \n",
    "    # Copy entire source folder to the destination\n",
    "    shutil.copytree(source_folder, destination_folder)\n",
    "    print(f\"Copied entire folder from '{source_folder}' to '{destination_folder}'\")"
   ]
  },
  {
   "cell_type": "code",
   "execution_count": 8,
   "metadata": {},
   "outputs": [
    {
     "name": "stdout",
     "output_type": "stream",
     "text": [
      "Copied entire folder from 'C:\\Users\\Richard Nguyen\\.cache\\kagglehub\\datasets\\kamilpytlak\\personal-key-indicators-of-heart-disease\\versions\\6' to 'c:\\Users\\Richard Nguyen\\OneDrive - VNU-HCMUS\\[Uni] UniverPro\\Programming for Data Science\\Laps\\Pro4DS-FinalProject-HandleKaggleDatasetProblems\\Source\\Data'\n"
     ]
    }
   ],
   "source": [
    "copy_all_files_and_folders(source_path, destination_path)"
   ]
  },
  {
   "cell_type": "markdown",
   "metadata": {},
   "source": [
    "---\n",
    "Hoàn thành bước thu thập dữ liệu "
   ]
  }
 ],
 "metadata": {
  "kernelspec": {
   "display_name": "Python 3",
   "language": "python",
   "name": "python3"
  },
  "language_info": {
   "codemirror_mode": {
    "name": "ipython",
    "version": 3
   },
   "file_extension": ".py",
   "mimetype": "text/x-python",
   "name": "python",
   "nbconvert_exporter": "python",
   "pygments_lexer": "ipython3",
   "version": "3.12.5"
  }
 },
 "nbformat": 4,
 "nbformat_minor": 2
}
