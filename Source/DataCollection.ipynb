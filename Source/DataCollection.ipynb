{
 "cells": [
  {
   "cell_type": "markdown",
   "metadata": {},
   "source": [
    "## **Programming for Data Science - Lập Trình cho khoa học dữ liệu**\n",
    "### **HCMUS - Trường Đại học khoa học tự nhiên - Nov 2024.**\n",
    "### **Final Project - Handle Kaggle Dataset Problems**\n",
    "#### **Due:** 16/12/2024.\n",
    "#### **Lớp:** 22_21.\n",
    "#### **Giảng viên hướng dẫn:** Thầy Phạm Trọng Nghĩa - Thầy Lê Nhựt Nam.\n",
    "#### **Tên Nhóm:** 3TT\n",
    "#### **MSSS - Tên thành viên:**\n",
    "1. 22120384 - Nguyễn Đình Trí.\n",
    "2. 22120398 - Vũ Hoàng Nhật Trường.\n",
    "3. 22120412 - Nguyễn Anh Tường.\n",
    "---"
   ]
  },
  {
   "cell_type": "markdown",
   "metadata": {},
   "source": [
    "### STEP 1: DATA COLLECTION\n",
    "#### **Người thực hiện:** Nguyễn Anh Tường - 22120412.\n",
    "\n",
    "---"
   ]
  },
  {
   "cell_type": "markdown",
   "metadata": {},
   "source": [
    "**1. Thư viện sử dụng:**"
   ]
  },
  {
   "cell_type": "code",
   "execution_count": null,
   "metadata": {},
   "outputs": [],
   "source": [
    "import kagglehub\n",
    "import os\n",
    "from pathlib import Path\n",
    "import shutil"
   ]
  },
  {
   "cell_type": "markdown",
   "metadata": {},
   "source": [
    "**2. Hàm tải tập dữ liệu từ kaggle thông qua kagglehub:**"
   ]
  },
  {
   "cell_type": "code",
   "execution_count": null,
   "metadata": {},
   "outputs": [],
   "source": [
    "datapath = ''"
   ]
  },
  {
   "cell_type": "code",
   "execution_count": null,
   "metadata": {},
   "outputs": [],
   "source": [
    "def dataset_downloader(datapath):\n",
    "    path = kagglehub.dataset_download(datapath)\n",
    "    print(\"Path to dataset files:\", path)\n",
    "    return path"
   ]
  },
  {
   "cell_type": "code",
   "execution_count": null,
   "metadata": {},
   "outputs": [],
   "source": [
    "def getCurrrentDir():\n",
    "    current_directory = Path.cwd()\n",
    "    return current_directory"
   ]
  },
  {
   "cell_type": "code",
   "execution_count": null,
   "metadata": {},
   "outputs": [],
   "source": [
    "destination_path = getCurrrentDir() / 'Data'\n",
    "source_path = dataset_downloader(datapath)"
   ]
  },
  {
   "cell_type": "code",
   "execution_count": null,
   "metadata": {},
   "outputs": [],
   "source": [
    "#TEST\n",
    "print('Destination: ', destination_path)\n",
    "print('Source: ', source_path)"
   ]
  },
  {
   "cell_type": "markdown",
   "metadata": {},
   "source": [
    "**3. Copy file đã tải về vào thư mục hoạt động cần thiết - ở đây là thư mục data.**"
   ]
  },
  {
   "cell_type": "code",
   "execution_count": null,
   "metadata": {},
   "outputs": [],
   "source": [
    "def copy_csv_files(source_folder, destination_folder):\n",
    "    if not os.path.exists(source_folder):\n",
    "        raise FileNotFoundError(f\"Source folder '{source_folder}' not found.\")\n",
    "    \n",
    "    # Create new dir if not exist\n",
    "    os.makedirs(destination_folder, exist_ok=True)\n",
    "\n",
    "    #Find CSV file\n",
    "    for file_name in os.listdir(source_folder):\n",
    "        if file_name.endswith('.csv'):  # Filter only .csv files\n",
    "            source_file = os.path.join(source_folder, file_name)\n",
    "            destination_file = os.path.join(destination_folder, file_name)\n",
    "            shutil.copy2(source_file, destination_file)  # Copy file with metadata\n",
    "            print(f\"Copied: {source_file} to {destination_file}\")"
   ]
  },
  {
   "cell_type": "code",
   "execution_count": null,
   "metadata": {},
   "outputs": [],
   "source": [
    "copy_csv_files(source_path, destination_path)"
   ]
  },
  {
   "cell_type": "markdown",
   "metadata": {},
   "source": [
    "---\n",
    "Hoàn thành bước thu thập dữ liệu "
   ]
  }
 ],
 "metadata": {
  "kernelspec": {
   "display_name": "Python 3",
   "language": "python",
   "name": "python3"
  },
  "language_info": {
   "codemirror_mode": {
    "name": "ipython",
    "version": 3
   },
   "file_extension": ".py",
   "mimetype": "text/x-python",
   "name": "python",
   "nbconvert_exporter": "python",
   "pygments_lexer": "ipython3",
   "version": "3.12.5"
  }
 },
 "nbformat": 4,
 "nbformat_minor": 2
}
