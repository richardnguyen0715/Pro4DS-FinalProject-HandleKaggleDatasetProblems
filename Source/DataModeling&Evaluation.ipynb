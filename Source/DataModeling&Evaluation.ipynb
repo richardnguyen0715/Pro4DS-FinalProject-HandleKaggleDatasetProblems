{
 "cells": [
  {
   "cell_type": "markdown",
   "metadata": {},
   "source": [
    "## **Programming for Data Science - Lập Trình cho khoa học dữ liệu**\n",
    "### **HCMUS - Trường Đại học khoa học tự nhiên - Nov 2024.**\n",
    "### **Final Project - Handle Kaggle Dataset Problems**\n",
    "#### **Due:** 16/12/2024.\n",
    "#### **Lớp:** 22_21.\n",
    "#### **Giảng viên hướng dẫn:** Thầy Phạm Trọng Nghĩa - Thầy Lê Nhựt Nam.\n",
    "#### **Tên Nhóm:** 3TT\n",
    "#### **MSSS - Tên thành viên:**\n",
    "1. 22120384 - Nguyễn Đình Trí.\n",
    "2. 22120398 - Vũ Hoàng Nhật Trường.\n",
    "3. 22120412 - Nguyễn Anh Tường.\n",
    "---\n",
    "\n",
    "### STEP 3&4: DATA MODELING AND EVALUATION\n",
    "#### **Người thực hiện:** Hoàng Vũ Nhật Trường - 22120398.\n",
    "\n",
    "---"
   ]
  },
  {
   "cell_type": "markdown",
   "metadata": {},
   "source": []
  }
 ],
 "metadata": {
  "language_info": {
   "name": "python"
  }
 },
 "nbformat": 4,
 "nbformat_minor": 2
}
